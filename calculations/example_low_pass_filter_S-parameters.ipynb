{
 "cells": [
  {
   "cell_type": "code",
   "execution_count": 1,
   "id": "addressed-requirement",
   "metadata": {},
   "outputs": [],
   "source": [
    "import numpy as np\n",
    "# import sympy as sp\n",
    "from scipy import signal\n",
    "from numpy import pi as π\n",
    "import matplotlib.pyplot as plt\n",
    "%matplotlib inline"
   ]
  },
  {
   "cell_type": "markdown",
   "id": "ultimate-static",
   "metadata": {},
   "source": [
    "![2nd order LP filter](./img/2n_order_LP_filter.png)"
   ]
  },
  {
   "cell_type": "markdown",
   "id": "silent-passenger",
   "metadata": {},
   "source": [
    "## Parámeters\n",
    "\n",
    "$Q = 0.9$\n",
    "\n",
    "$R = 8 \\Omega$\n",
    "\n",
    "$freq = 2kHz$"
   ]
  },
  {
   "cell_type": "markdown",
   "id": "legitimate-australia",
   "metadata": {},
   "source": [
    "## Canonical equation Low Pass filter 2nd Order\n",
    "\n",
    "$$H(s) = G \\cdot \\frac{\\omega_0^2}{s² + \\frac{ \\omega_0}{Q} s + \\omega_0²}$$"
   ]
  },
  {
   "cell_type": "code",
   "execution_count": 2,
   "id": "biblical-return",
   "metadata": {},
   "outputs": [],
   "source": [
    "ω_0 = 2*π*2000; Q=0.9; G = 1"
   ]
  },
  {
   "cell_type": "code",
   "execution_count": 3,
   "id": "reverse-census",
   "metadata": {},
   "outputs": [
    {
     "data": {
      "text/plain": [
       "TransferFunctionContinuous(\n",
       "array([1.5791367e+08]),\n",
       "array([1.0000000e+00, 1.3962634e+04, 1.5791367e+08]),\n",
       "dt: None\n",
       ")"
      ]
     },
     "execution_count": 3,
     "metadata": {},
     "output_type": "execute_result"
    }
   ],
   "source": [
    "num = [ω_0**2]\n",
    "den = [1, ω_0/Q, ω_0**2]\n",
    "LP_filter = signal.lti(num,den)\n",
    "LP_filter"
   ]
  },
  {
   "cell_type": "code",
   "execution_count": 4,
   "id": "cardiac-audience",
   "metadata": {},
   "outputs": [
    {
     "data": {
      "image/png": "[encoded data removed]",
      "text/plain": [
       "<Figure size 432x432 with 2 Axes>"
      ]
     },
     "metadata": {
      "needs_background": "light"
     },
     "output_type": "display_data"
    }
   ],
   "source": [
    "w, mag, phase = signal.bode(LP_filter)\n",
    "fig, (ax1,ax2) = plt.subplots(2,1,figsize=(6,6))\n",
    "ax1.semilogx(w/2/π, mag) # Eje x logaritmo\n",
    "ax2.semilogx(w/2/π, phase) # Eje x logaritmico\n",
    "\n",
    "ax1.set_title('Ganancia') #Decoracion\n",
    "ax2.set_title('Fase') # Decoracion\n",
    "\n",
    "ax1.grid(color='g', linestyle='--', linewidth=0.5, alpha=0.5,which='major') #Decoracion\n",
    "ax1.grid(color='g', linestyle='--', linewidth=0.2, alpha=0.5,which='minor') #Decoracion\n",
    "\n",
    "ax2.grid(color='g', linestyle='--', linewidth=0.5, alpha=0.5,which='major') #Decoracion\n",
    "ax2.grid(color='g', linestyle='--', linewidth=0.2, alpha=0.5,which='minor') #Decoracion"
   ]
  },
  {
   "cell_type": "markdown",
   "id": "particular-castle",
   "metadata": {},
   "source": [
    "## ngspice response S-Parameter simulation\n",
    "\n",
    "![ngspice_response](img/ngspice_S-parameters.png)"
   ]
  },
  {
   "cell_type": "markdown",
   "id": "saving-paraguay",
   "metadata": {},
   "source": [
    "## Find \"ideal\" Componets\n",
    "\n",
    "$Q = \\omega_0 C R$ \n",
    "\n",
    "$\\omega_0 = \\frac{1}{\\sqrt{LC}}$"
   ]
  },
  {
   "cell_type": "code",
   "execution_count": 5,
   "id": "collected-material",
   "metadata": {},
   "outputs": [
    {
     "data": {
      "text/plain": [
       "8.952465548919114e-06"
      ]
     },
     "execution_count": 5,
     "metadata": {},
     "output_type": "execute_result"
    }
   ],
   "source": [
    "R = 8; Q = 0.9;\n",
    "C = Q/ω_0/R\n",
    "C"
   ]
  },
  {
   "cell_type": "code",
   "execution_count": 6,
   "id": "infectious-intensity",
   "metadata": {},
   "outputs": [
    {
     "data": {
      "text/plain": [
       "0.0007073553026306459"
      ]
     },
     "execution_count": 6,
     "metadata": {},
     "output_type": "execute_result"
    }
   ],
   "source": [
    "L=1/ω_0**2/C\n",
    "L"
   ]
  },
  {
   "cell_type": "markdown",
   "id": "hawaiian-advocacy",
   "metadata": {},
   "source": [
    "## ngspice response \"ideal\" components simulation\n",
    "\n",
    "![ngspice ideal components simulation](img/ngspice_ideal_components.png)"
   ]
  }
 ],
 "metadata": {
  "kernelspec": {
   "display_name": "Python 3",
   "language": "python",
   "name": "python3"
  },
  "language_info": {
   "codemirror_mode": {
    "name": "ipython",
    "version": 3
   },
   "file_extension": ".py",
   "mimetype": "text/x-python",
   "name": "python",
   "nbconvert_exporter": "python",
   "pygments_lexer": "ipython3",
   "version": "3.9.2"
  }
 },
 "nbformat": 4,
 "nbformat_minor": 5
}
